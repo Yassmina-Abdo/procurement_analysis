{
 "cells": [
  {
   "cell_type": "markdown",
   "metadata": {
    "pycharm": {
     "name": "#%% md\n"
    }
   },
   "source": [
    "# Imports"
   ]
  },
  {
   "cell_type": "code",
   "execution_count": 1,
   "metadata": {
    "pycharm": {
     "name": "#%%\n"
    }
   },
   "outputs": [],
   "source": [
    "import dash\n",
    "import jupyter_dash\n",
    "from dash import html\n",
    "from dash import dcc\n",
    "import dash_bootstrap_components as dbc\n",
    "import plotly.express as px\n",
    "from dash.dependencies import Input, Output\n",
    "from datetime import datetime\n",
    "import plotly.graph_objects as go\n",
    "import pandas as pd"
   ]
  },
  {
   "cell_type": "markdown",
   "metadata": {
    "pycharm": {
     "name": "#%% md\n"
    }
   },
   "source": [
    "# Data Exploration"
   ]
  },
  {
   "cell_type": "code",
   "execution_count": 2,
   "metadata": {
    "pycharm": {
     "name": "#%%\n"
    }
   },
   "outputs": [
    {
     "data": {
      "text/html": [
       "<div>\n",
       "<style scoped>\n",
       "    .dataframe tbody tr th:only-of-type {\n",
       "        vertical-align: middle;\n",
       "    }\n",
       "\n",
       "    .dataframe tbody tr th {\n",
       "        vertical-align: top;\n",
       "    }\n",
       "\n",
       "    .dataframe thead th {\n",
       "        text-align: right;\n",
       "    }\n",
       "</style>\n",
       "<table border=\"1\" class=\"dataframe\">\n",
       "  <thead>\n",
       "    <tr style=\"text-align: right;\">\n",
       "      <th></th>\n",
       "      <th>Quarter and Fiscal Year</th>\n",
       "      <th>Commodity Category</th>\n",
       "      <th>Contract Description</th>\n",
       "      <th>WBG Organization</th>\n",
       "      <th>Selection Number</th>\n",
       "      <th>Supplier</th>\n",
       "      <th>Supplier Country</th>\n",
       "      <th>Supplier Country Code</th>\n",
       "      <th>Contract Award Amount</th>\n",
       "      <th>Fund Source</th>\n",
       "      <th>VPU description</th>\n",
       "    </tr>\n",
       "    <tr>\n",
       "      <th>Award Date</th>\n",
       "      <th></th>\n",
       "      <th></th>\n",
       "      <th></th>\n",
       "      <th></th>\n",
       "      <th></th>\n",
       "      <th></th>\n",
       "      <th></th>\n",
       "      <th></th>\n",
       "      <th></th>\n",
       "      <th></th>\n",
       "      <th></th>\n",
       "    </tr>\n",
       "  </thead>\n",
       "  <tbody>\n",
       "    <tr>\n",
       "      <th>2013-09-30T00:00:00.000</th>\n",
       "      <td>Q1 - FY14</td>\n",
       "      <td>CONTRACT CONSULTANTS</td>\n",
       "      <td>Scientific Coordination for Impact Evaluation ...</td>\n",
       "      <td>IBRD</td>\n",
       "      <td>1115541</td>\n",
       "      <td>University Hospital Heidelberg</td>\n",
       "      <td>Germany</td>\n",
       "      <td>DE</td>\n",
       "      <td>325000.00</td>\n",
       "      <td>TRUST FUND</td>\n",
       "      <td>Africa</td>\n",
       "    </tr>\n",
       "    <tr>\n",
       "      <th>2013-09-29T00:00:00.000</th>\n",
       "      <td>Q1 - FY14</td>\n",
       "      <td>SOFTWARE</td>\n",
       "      <td>Software development to support ICT-enabled In...</td>\n",
       "      <td>IFC</td>\n",
       "      <td>14-0010</td>\n",
       "      <td>DataSoft Systems Bangladesh Li</td>\n",
       "      <td>Bangladesh</td>\n",
       "      <td>BD</td>\n",
       "      <td>NaN</td>\n",
       "      <td>WBG</td>\n",
       "      <td>IFC VP Asia Pacific</td>\n",
       "    </tr>\n",
       "    <tr>\n",
       "      <th>2013-09-27T00:00:00.000</th>\n",
       "      <td>Q1 - FY14</td>\n",
       "      <td>CONTRACT CONSULTANTS</td>\n",
       "      <td>Consortium-Approach to the Development of Gas ...</td>\n",
       "      <td>IBRD</td>\n",
       "      <td>1090280</td>\n",
       "      <td>Economic Consulting Associates, Ltd.</td>\n",
       "      <td>United Kingdom</td>\n",
       "      <td>GB</td>\n",
       "      <td>1290836.64</td>\n",
       "      <td>TRUST FUND</td>\n",
       "      <td>Europe and Central Asia</td>\n",
       "    </tr>\n",
       "    <tr>\n",
       "      <th>2013-09-27T00:00:00.000</th>\n",
       "      <td>Q1 - FY14</td>\n",
       "      <td>CONTRACT CONSULTANTS</td>\n",
       "      <td>Updating the Regional Balkans Infrastructure S...</td>\n",
       "      <td>IBRD</td>\n",
       "      <td>1096179</td>\n",
       "      <td>Systema Consulting</td>\n",
       "      <td>Greece</td>\n",
       "      <td>GR</td>\n",
       "      <td>556297.09</td>\n",
       "      <td>TRUST FUND</td>\n",
       "      <td>Europe and Central Asia</td>\n",
       "    </tr>\n",
       "    <tr>\n",
       "      <th>2013-09-26T00:00:00.000</th>\n",
       "      <td>Q1 - FY14</td>\n",
       "      <td>SOFTWARE</td>\n",
       "      <td>Software development to support ICT-enabled In...</td>\n",
       "      <td>IFC</td>\n",
       "      <td>14-0010</td>\n",
       "      <td>Technohaven Company Ltd</td>\n",
       "      <td>Bangladesh</td>\n",
       "      <td>BD</td>\n",
       "      <td>NaN</td>\n",
       "      <td>WBG</td>\n",
       "      <td>IFC VP Asia Pacific</td>\n",
       "    </tr>\n",
       "  </tbody>\n",
       "</table>\n",
       "</div>"
      ],
      "text/plain": [
       "                        Quarter and Fiscal Year    Commodity Category  \\\n",
       "Award Date                                                              \n",
       "2013-09-30T00:00:00.000               Q1 - FY14  CONTRACT CONSULTANTS   \n",
       "2013-09-29T00:00:00.000               Q1 - FY14              SOFTWARE   \n",
       "2013-09-27T00:00:00.000               Q1 - FY14  CONTRACT CONSULTANTS   \n",
       "2013-09-27T00:00:00.000               Q1 - FY14  CONTRACT CONSULTANTS   \n",
       "2013-09-26T00:00:00.000               Q1 - FY14              SOFTWARE   \n",
       "\n",
       "                                                      Contract Description  \\\n",
       "Award Date                                                                   \n",
       "2013-09-30T00:00:00.000  Scientific Coordination for Impact Evaluation ...   \n",
       "2013-09-29T00:00:00.000  Software development to support ICT-enabled In...   \n",
       "2013-09-27T00:00:00.000  Consortium-Approach to the Development of Gas ...   \n",
       "2013-09-27T00:00:00.000  Updating the Regional Balkans Infrastructure S...   \n",
       "2013-09-26T00:00:00.000  Software development to support ICT-enabled In...   \n",
       "\n",
       "                        WBG Organization Selection Number  \\\n",
       "Award Date                                                  \n",
       "2013-09-30T00:00:00.000             IBRD          1115541   \n",
       "2013-09-29T00:00:00.000              IFC          14-0010   \n",
       "2013-09-27T00:00:00.000             IBRD          1090280   \n",
       "2013-09-27T00:00:00.000             IBRD          1096179   \n",
       "2013-09-26T00:00:00.000              IFC          14-0010   \n",
       "\n",
       "                                                     Supplier  \\\n",
       "Award Date                                                      \n",
       "2013-09-30T00:00:00.000        University Hospital Heidelberg   \n",
       "2013-09-29T00:00:00.000        DataSoft Systems Bangladesh Li   \n",
       "2013-09-27T00:00:00.000  Economic Consulting Associates, Ltd.   \n",
       "2013-09-27T00:00:00.000                    Systema Consulting   \n",
       "2013-09-26T00:00:00.000               Technohaven Company Ltd   \n",
       "\n",
       "                        Supplier Country Supplier Country Code  \\\n",
       "Award Date                                                       \n",
       "2013-09-30T00:00:00.000          Germany                    DE   \n",
       "2013-09-29T00:00:00.000       Bangladesh                    BD   \n",
       "2013-09-27T00:00:00.000   United Kingdom                    GB   \n",
       "2013-09-27T00:00:00.000           Greece                    GR   \n",
       "2013-09-26T00:00:00.000       Bangladesh                    BD   \n",
       "\n",
       "                         Contract Award Amount Fund Source  \\\n",
       "Award Date                                                   \n",
       "2013-09-30T00:00:00.000              325000.00  TRUST FUND   \n",
       "2013-09-29T00:00:00.000                    NaN         WBG   \n",
       "2013-09-27T00:00:00.000             1290836.64  TRUST FUND   \n",
       "2013-09-27T00:00:00.000              556297.09  TRUST FUND   \n",
       "2013-09-26T00:00:00.000                    NaN         WBG   \n",
       "\n",
       "                                 VPU description  \n",
       "Award Date                                        \n",
       "2013-09-30T00:00:00.000                   Africa  \n",
       "2013-09-29T00:00:00.000      IFC VP Asia Pacific  \n",
       "2013-09-27T00:00:00.000  Europe and Central Asia  \n",
       "2013-09-27T00:00:00.000  Europe and Central Asia  \n",
       "2013-09-26T00:00:00.000      IFC VP Asia Pacific  "
      ]
     },
     "execution_count": 2,
     "metadata": {},
     "output_type": "execute_result"
    }
   ],
   "source": [
    "df = pd.read_csv('../Assets/contracts_data.csv', index_col='Award Date')\n",
    "df.head()"
   ]
  },
  {
   "cell_type": "code",
   "execution_count": 3,
   "metadata": {
    "pycharm": {
     "name": "#%%\n"
    }
   },
   "outputs": [
    {
     "name": "stdout",
     "output_type": "stream",
     "text": [
      "<class 'pandas.core.frame.DataFrame'>\n",
      "Index: 2297 entries, 2013-09-30T00:00:00.000 to 2020-06-30T00:00:00.000\n",
      "Data columns (total 11 columns):\n",
      " #   Column                   Non-Null Count  Dtype  \n",
      "---  ------                   --------------  -----  \n",
      " 0   Quarter and Fiscal Year  2297 non-null   object \n",
      " 1   Commodity Category       2297 non-null   object \n",
      " 2   Contract Description     2297 non-null   object \n",
      " 3   WBG Organization         2297 non-null   object \n",
      " 4   Selection Number         2264 non-null   object \n",
      " 5   Supplier                 2297 non-null   object \n",
      " 6   Supplier Country         2297 non-null   object \n",
      " 7   Supplier Country Code    2296 non-null   object \n",
      " 8   Contract Award Amount    1969 non-null   float64\n",
      " 9   Fund Source              2259 non-null   object \n",
      " 10  VPU description          2296 non-null   object \n",
      "dtypes: float64(1), object(10)\n",
      "memory usage: 215.3+ KB\n"
     ]
    }
   ],
   "source": [
    "df.info()"
   ]
  },
  {
   "cell_type": "markdown",
   "metadata": {
    "pycharm": {
     "name": "#%% md\n"
    }
   },
   "source": [
    "# Data Preprocessing"
   ]
  },
  {
   "cell_type": "code",
   "execution_count": 4,
   "metadata": {
    "pycharm": {
     "name": "#%%\n"
    }
   },
   "outputs": [
    {
     "name": "stdout",
     "output_type": "stream",
     "text": [
      "1597\n"
     ]
    }
   ],
   "source": [
    "df.index = pd.to_datetime(df.index)\n",
    "Contracts_Supplier = list(df['Supplier'].unique())\n",
    "print(len(Contracts_Supplier))"
   ]
  },
  {
   "cell_type": "code",
   "execution_count": 5,
   "metadata": {
    "pycharm": {
     "name": "#%%\n"
    }
   },
   "outputs": [],
   "source": [
    "def generate_options(stocks):\n",
    "    options = []\n",
    "    for sym in stocks:\n",
    "        #grgd\n",
    "        options.append({'label': sym, 'value': sym})\n",
    "    return options"
   ]
  },
  {
   "cell_type": "markdown",
   "metadata": {
    "pycharm": {
     "name": "#%% md\n"
    }
   },
   "source": [
    "# Dash"
   ]
  },
  {
   "cell_type": "markdown",
   "metadata": {},
   "source": []
  },
  {
   "cell_type": "code",
   "execution_count": 6,
   "metadata": {
    "pycharm": {
     "name": "#%%\n"
    }
   },
   "outputs": [],
   "source": [
    "app = jupyter_dash.JupyterDash(__name__,external_stylesheets=[dbc.themes.SOLAR])\n",
    "app.title = 'Procurement Dashboard'\n",
    "card_main = dbc.Card(\n",
    "    [\n",
    "        \n",
    "\n",
    "        dbc.CardBody(\n",
    "            [\n",
    "                html.H4(\"Procurement Dashboard\", className=\"card-title\"),\n",
    "                html.P( \"Choose Supplier\", className=\"card-text\", ),\n",
    "\n",
    "                dcc.Dropdown(id='user_choice', options=[{'label': sup, \"value\": sup} for sup in df.Supplier.unique()],\n",
    "                             value=2007, clearable=False, style={\"color\": \"#000000\"}),\n",
    "                # dbc.Button(\"Press me\", color=\"primary\"),\n",
    "                # dbc.CardLink(\"GirlsWhoCode\", href=\"https://girlswhocode.com/\", target=\"_blank\"),\n",
    "            ]\n",
    "        ),\n",
    "    ],\n",
    "    color=\"dark\",   # https://bootswatch.com/default/ for more card colors\n",
    "    inverse=True,  \n",
    "    outline=False, \n",
    ")"
   ]
  },
  {
   "cell_type": "code",
   "execution_count": 7,
   "metadata": {
    "pycharm": {
     "name": "#%%\n"
    }
   },
   "outputs": [],
   "source": [
    "app.layout = html.Div([\n",
    "    dbc.Row([dbc.Col(card_main, width=15),], justify=\"around\"),\n",
    "])"
   ]
  },
  {
   "cell_type": "code",
   "execution_count": 24,
   "metadata": {
    "pycharm": {
     "name": "#%%\n"
    }
   },
   "outputs": [],
   "source": [
    "@app.callback(\n",
    "    Output(\"my_bar\", \"figure\"),\n",
    "    [Input(\"user_choice\", \"value\")]\n",
    ")\n",
    "def update_graph(value):\n",
    "    fig = px.scatter(df.query(\"year=={}\".format(str(value))), x=\"gdpPercap\", y=\"lifeExp\",\n",
    "                     size=\"pop\", color=\"continent\", title=str(value),\n",
    "                     hover_name=\"country\", log_x=True, size_max=60).update_layout(showlegend=True, title_x=0.5)\n",
    "    return fig"
   ]
  },
  {
   "cell_type": "code",
   "execution_count": 8,
   "metadata": {
    "pycharm": {
     "name": "#%%\n"
    }
   },
   "outputs": [
    {
     "name": "stdout",
     "output_type": "stream",
     "text": [
      "Dash app running on http://127.0.0.1:8050/\n"
     ]
    }
   ],
   "source": [
    "if __name__ == \"__main__\":\n",
    "    app.run_server(debug=True)"
   ]
  },
  {
   "cell_type": "code",
   "execution_count": null,
   "metadata": {
    "pycharm": {
     "name": "#%%\n"
    }
   },
   "outputs": [],
   "source": []
  }
 ],
 "metadata": {
  "kernelspec": {
   "display_name": "Python 3 (ipykernel)",
   "language": "python",
   "name": "python3"
  },
  "language_info": {
   "codemirror_mode": {
    "name": "ipython",
    "version": 3
   },
   "file_extension": ".py",
   "mimetype": "text/x-python",
   "name": "python",
   "nbconvert_exporter": "python",
   "pygments_lexer": "ipython3",
   "version": "3.9.7"
  }
 },
 "nbformat": 4,
 "nbformat_minor": 1
}
