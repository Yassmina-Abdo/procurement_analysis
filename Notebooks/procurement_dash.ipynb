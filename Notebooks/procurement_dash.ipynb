{
 "cells": [
  {
   "cell_type": "markdown",
   "metadata": {
    "pycharm": {
     "name": "#%% md\n"
    },
    "id": "IuO2LeBEQ9Eh"
   },
   "source": [
    "# Imports"
   ]
  },
  {
   "cell_type": "code",
   "execution_count": 1,
   "metadata": {
    "pycharm": {
     "name": "#%%\n"
    },
    "id": "QJoOh0JCQ9El",
    "colab": {
     "base_uri": "https://localhost:8080/",
     "height": 160
    },
    "outputId": "0716de7c-1daf-42a3-bb31-11f7e9cb01d9"
   },
   "outputs": [
    {
     "name": "stderr",
     "output_type": "stream",
     "text": [
      "C:\\Users\\Yassmina Abdo\\AppData\\Local\\Temp\\ipykernel_18332\\3179680850.py:8: UserWarning: \n",
      "The dash_table package is deprecated. Please replace\n",
      "`import dash_table` with `from dash import dash_table`\n",
      "\n",
      "Also, if you're using any of the table format helpers (e.g. Group), replace \n",
      "`from dash_table.Format import Group` with \n",
      "`from dash.dash_table.Format import Group`\n",
      "  from dash_table import DataTable, FormatTemplate\n"
     ]
    }
   ],
   "source": [
    "import jupyter_dash\n",
    "from dash import html\n",
    "from dash import dcc\n",
    "import dash_bootstrap_components as dbc\n",
    "import plotly.express as px\n",
    "from dash.dependencies import Input, Output\n",
    "from dash_table import DataTable, FormatTemplate\n",
    "from datetime import datetime\n",
    "import plotly.graph_objects as go\n",
    "import pandas as pd"
   ]
  },
  {
   "cell_type": "markdown",
   "metadata": {
    "pycharm": {
     "name": "#%% md\n"
    },
    "id": "NlbJEsWYQ9Eo"
   },
   "source": [
    "# Data Exploration"
   ]
  },
  {
   "cell_type": "code",
   "execution_count": 2,
   "metadata": {
    "pycharm": {
     "name": "#%%\n"
    },
    "id": "dRy1z5pGQ9Eo",
    "outputId": "4485639b-c219-4035-ef5b-eee2d90b7399",
    "colab": {
     "base_uri": "https://localhost:8080/",
     "height": 598
    }
   },
   "outputs": [
    {
     "data": {
      "text/plain": "                Award Date Quarter and Fiscal Year    Commodity Category  \\\n0  2013-09-30T00:00:00.000               Q1 - FY14  CONTRACT CONSULTANTS   \n1  2013-09-29T00:00:00.000               Q1 - FY14              SOFTWARE   \n2  2013-09-27T00:00:00.000               Q1 - FY14  CONTRACT CONSULTANTS   \n3  2013-09-27T00:00:00.000               Q1 - FY14  CONTRACT CONSULTANTS   \n4  2013-09-26T00:00:00.000               Q1 - FY14              SOFTWARE   \n\n                                Contract Description WBG Organization  \\\n0  Scientific Coordination for Impact Evaluation ...             IBRD   \n1  Software development to support ICT-enabled In...              IFC   \n2  Consortium-Approach to the Development of Gas ...             IBRD   \n3  Updating the Regional Balkans Infrastructure S...             IBRD   \n4  Software development to support ICT-enabled In...              IFC   \n\n  Selection Number                              Supplier Supplier Country  \\\n0          1115541        University Hospital Heidelberg          Germany   \n1          14-0010        DataSoft Systems Bangladesh Li       Bangladesh   \n2          1090280  Economic Consulting Associates, Ltd.   United Kingdom   \n3          1096179                    Systema Consulting           Greece   \n4          14-0010               Technohaven Company Ltd       Bangladesh   \n\n  Supplier Country Code  Contract Award Amount Fund Source  \\\n0                    DE              325000.00  TRUST FUND   \n1                    BD                    NaN         WBG   \n2                    GB             1290836.64  TRUST FUND   \n3                    GR              556297.09  TRUST FUND   \n4                    BD                    NaN         WBG   \n\n           VPU description  \n0                   Africa  \n1      IFC VP Asia Pacific  \n2  Europe and Central Asia  \n3  Europe and Central Asia  \n4      IFC VP Asia Pacific  ",
      "text/html": "<div>\n<style scoped>\n    .dataframe tbody tr th:only-of-type {\n        vertical-align: middle;\n    }\n\n    .dataframe tbody tr th {\n        vertical-align: top;\n    }\n\n    .dataframe thead th {\n        text-align: right;\n    }\n</style>\n<table border=\"1\" class=\"dataframe\">\n  <thead>\n    <tr style=\"text-align: right;\">\n      <th></th>\n      <th>Award Date</th>\n      <th>Quarter and Fiscal Year</th>\n      <th>Commodity Category</th>\n      <th>Contract Description</th>\n      <th>WBG Organization</th>\n      <th>Selection Number</th>\n      <th>Supplier</th>\n      <th>Supplier Country</th>\n      <th>Supplier Country Code</th>\n      <th>Contract Award Amount</th>\n      <th>Fund Source</th>\n      <th>VPU description</th>\n    </tr>\n  </thead>\n  <tbody>\n    <tr>\n      <th>0</th>\n      <td>2013-09-30T00:00:00.000</td>\n      <td>Q1 - FY14</td>\n      <td>CONTRACT CONSULTANTS</td>\n      <td>Scientific Coordination for Impact Evaluation ...</td>\n      <td>IBRD</td>\n      <td>1115541</td>\n      <td>University Hospital Heidelberg</td>\n      <td>Germany</td>\n      <td>DE</td>\n      <td>325000.00</td>\n      <td>TRUST FUND</td>\n      <td>Africa</td>\n    </tr>\n    <tr>\n      <th>1</th>\n      <td>2013-09-29T00:00:00.000</td>\n      <td>Q1 - FY14</td>\n      <td>SOFTWARE</td>\n      <td>Software development to support ICT-enabled In...</td>\n      <td>IFC</td>\n      <td>14-0010</td>\n      <td>DataSoft Systems Bangladesh Li</td>\n      <td>Bangladesh</td>\n      <td>BD</td>\n      <td>NaN</td>\n      <td>WBG</td>\n      <td>IFC VP Asia Pacific</td>\n    </tr>\n    <tr>\n      <th>2</th>\n      <td>2013-09-27T00:00:00.000</td>\n      <td>Q1 - FY14</td>\n      <td>CONTRACT CONSULTANTS</td>\n      <td>Consortium-Approach to the Development of Gas ...</td>\n      <td>IBRD</td>\n      <td>1090280</td>\n      <td>Economic Consulting Associates, Ltd.</td>\n      <td>United Kingdom</td>\n      <td>GB</td>\n      <td>1290836.64</td>\n      <td>TRUST FUND</td>\n      <td>Europe and Central Asia</td>\n    </tr>\n    <tr>\n      <th>3</th>\n      <td>2013-09-27T00:00:00.000</td>\n      <td>Q1 - FY14</td>\n      <td>CONTRACT CONSULTANTS</td>\n      <td>Updating the Regional Balkans Infrastructure S...</td>\n      <td>IBRD</td>\n      <td>1096179</td>\n      <td>Systema Consulting</td>\n      <td>Greece</td>\n      <td>GR</td>\n      <td>556297.09</td>\n      <td>TRUST FUND</td>\n      <td>Europe and Central Asia</td>\n    </tr>\n    <tr>\n      <th>4</th>\n      <td>2013-09-26T00:00:00.000</td>\n      <td>Q1 - FY14</td>\n      <td>SOFTWARE</td>\n      <td>Software development to support ICT-enabled In...</td>\n      <td>IFC</td>\n      <td>14-0010</td>\n      <td>Technohaven Company Ltd</td>\n      <td>Bangladesh</td>\n      <td>BD</td>\n      <td>NaN</td>\n      <td>WBG</td>\n      <td>IFC VP Asia Pacific</td>\n    </tr>\n  </tbody>\n</table>\n</div>"
     },
     "execution_count": 2,
     "metadata": {},
     "output_type": "execute_result"
    }
   ],
   "source": [
    "df = pd.read_csv('../Assets/contracts_data.csv')\n",
    "df.head()"
   ]
  },
  {
   "cell_type": "code",
   "execution_count": 25,
   "metadata": {
    "pycharm": {
     "name": "#%%\n"
    },
    "id": "r1MF7vmEQ9Ep"
   },
   "outputs": [
    {
     "name": "stdout",
     "output_type": "stream",
     "text": [
      "<class 'pandas.core.frame.DataFrame'>\n",
      "Int64Index: 1911 entries, 0 to 2296\n",
      "Data columns (total 18 columns):\n",
      " #   Column                   Non-Null Count  Dtype         \n",
      "---  ------                   --------------  -----         \n",
      " 0   Award Date               1911 non-null   object        \n",
      " 1   Quarter and Fiscal Year  1911 non-null   object        \n",
      " 2   Commodity Category       1911 non-null   object        \n",
      " 3   Contract Description     1911 non-null   object        \n",
      " 4   WBG Organization         1911 non-null   object        \n",
      " 5   Supplier                 1911 non-null   object        \n",
      " 6   Supplier Country         1911 non-null   object        \n",
      " 7   Supplier Country Code    1911 non-null   object        \n",
      " 8   Contract Award Amount    1911 non-null   float64       \n",
      " 9   Fund Source              1897 non-null   object        \n",
      " 10  VPU description          1911 non-null   object        \n",
      " 11  Dates                    1911 non-null   datetime64[ns]\n",
      " 12  award_date_year          1911 non-null   int32         \n",
      " 13  award_date_week          1911 non-null   int32         \n",
      " 14  award_date_month         1911 non-null   int32         \n",
      " 15  award_date_weekofyear    1911 non-null   int32         \n",
      " 16  award_date_day           1911 non-null   int32         \n",
      " 17  award_date_quarter       1911 non-null   int32         \n",
      "dtypes: datetime64[ns](1), float64(1), int32(6), object(10)\n",
      "memory usage: 238.9+ KB\n"
     ]
    }
   ],
   "source": [
    "df.info()"
   ]
  },
  {
   "cell_type": "code",
   "source": [
    "#precentage of nulls in each col \n",
    "(df.isnull().sum()/df['Award Date'].count())*100"
   ],
   "metadata": {
    "colab": {
     "base_uri": "https://localhost:8080/"
    },
    "id": "jEe7Z9IbrtF9",
    "outputId": "4a020b34-16fb-40df-ad71-675b5aa3c649"
   },
   "execution_count": 4,
   "outputs": [
    {
     "data": {
      "text/plain": "Award Date                  0.000000\nQuarter and Fiscal Year     0.000000\nCommodity Category          0.000000\nContract Description        0.000000\nWBG Organization            0.000000\nSelection Number            1.436657\nSupplier                    0.000000\nSupplier Country            0.000000\nSupplier Country Code       0.043535\nContract Award Amount      14.279495\nFund Source                 1.654332\nVPU description             0.043535\ndtype: float64"
     },
     "execution_count": 4,
     "metadata": {},
     "output_type": "execute_result"
    }
   ]
  },
  {
   "cell_type": "code",
   "source": [
    "# contract consulting in diffrent names\n",
    "list(df['Commodity Category'].unique())"
   ],
   "metadata": {
    "colab": {
     "base_uri": "https://localhost:8080/"
    },
    "id": "DonDSWA54L3_",
    "outputId": "1b7d2133-d916-4050-d59d-cc17e2229d9a"
   },
   "execution_count": 5,
   "outputs": [
    {
     "data": {
      "text/plain": "['CONTRACT CONSULTANTS',\n 'SOFTWARE',\n 'EXTRNL/CATERED EVENT',\n 'AUDIO VISUAL',\n 'CONSULTING',\n 'EXTERNAL/CATERED EVENT',\n 'MISCELLANEOUS',\n 'TRANSPORTATION',\n 'TELECOMMUNICATIONS',\n 'IT HARDWARE',\n 'TRAINING',\n 'PHOTOCOPY',\n 'PUBLISHING',\n 'MEDICAL',\n 'External Meetings (non-staff)',\n 'MISCELLANEOUS SRVCS',\n 'PRINTING',\n 'INFORMATION TECH.',\n 'CARTOGRAPHIC',\n 'CLOUD SERVICES',\n 'AUDIO VISUALS',\n 'FURNITURE',\n 'LANGUAGE SERVICES',\n 'IT SERVICES',\n 'MISCELLANEOUS SERVICES',\n 'GENERAL BUILDING',\n 'SUBSCRIPTION',\n 'OBSOLETE',\n 'FOOD SERVICE',\n 'CONTRACT CONSULTING',\n 'RESEARCH AND ADVISORY SERVICE',\n 'MISCELANEOUS',\n 'FREIGHT/MAIL',\n 'DATA ACQUISITION']"
     },
     "execution_count": 5,
     "metadata": {},
     "output_type": "execute_result"
    }
   ]
  },
  {
   "cell_type": "markdown",
   "metadata": {
    "pycharm": {
     "name": "#%% md\n"
    },
    "id": "lwnO3SjXQ9Ep"
   },
   "source": [
    "# Data Preprocessing"
   ]
  },
  {
   "cell_type": "code",
   "source": [
    "# Replace Consult Col\n",
    "df['Commodity Category'].replace('CONTRACT CONSULTANTS','CONSULTING',inplace=True)\n",
    "df['Commodity Category'].replace('CONSULTING CONTRACT','CONSULTING',inplace=True)\n",
    "df['Commodity Category'].replace('CONTRACT CONSULTING','CONSULTING',inplace=True)"
   ],
   "metadata": {
    "id": "uyKyd8NY4b85"
   },
   "execution_count": 6,
   "outputs": []
  },
  {
   "cell_type": "code",
   "execution_count": 7,
   "metadata": {
    "pycharm": {
     "name": "#%%\n"
    },
    "id": "SFwVHfiUQ9Eq"
   },
   "outputs": [],
   "source": [
    "# give Supplier Country Code its value\n",
    "df.loc[16,'Supplier Country Code'] = 'NAM'\n",
    "\n",
    "# drop Selection Number whih i won't need\n",
    "df = df.drop('Selection Number', axis =1)\n",
    "\n",
    "# remove outliars\n",
    "q_low = df['Contract Award Amount'].quantile(0.01)\n",
    "q_hi  = df['Contract Award Amount'].quantile(0.99)\n",
    "\n",
    "df = df[(df['Contract Award Amount'] < q_hi) & (df['Contract Award Amount'] > q_low)]\n",
    "\n",
    "# impute depend on (country and position)\n",
    "rr=df.groupby(['Commodity Category']).mean()['Contract Award Amount']\n",
    "for i in rr.index:\n",
    "    if (df[df['Commodity Category'] == i]['Contract Award Amount'].isna().sum()) !=0:\n",
    "        r= df[df['Commodity Category'] == i]['Contract Award Amount'].fillna(rr[i])\n",
    "        df.loc[r.index,'Contract Award Amount'] =r\n"
   ]
  },
  {
   "cell_type": "code",
   "source": [
    "# date conversion\n",
    "import datetime\n",
    "def convertDate(d):\n",
    "    new_date = datetime.datetime.strptime(d,\"%Y-%m-%dT%H:%M:%S.%f\")\n",
    "    return new_date.date()\n",
    "\n",
    "df['Dates'] = df['Award Date'].apply(convertDate)\n",
    "df['Dates'] = pd.to_datetime(df['Dates'])"
   ],
   "metadata": {
    "id": "nLudHVU3q-eP"
   },
   "execution_count": 8,
   "outputs": []
  },
  {
   "cell_type": "code",
   "source": [
    "def process_date(df):\n",
    "    date_parts = ['year','week','month','weekofyear','day', 'quarter']\n",
    "    for part in date_parts:\n",
    "        part_col = 'award_date' + '_' + part\n",
    "        df[part_col] = getattr(df['Dates'].dt, part).astype(int)\n",
    "    return df\n",
    "\n",
    "process_date(df)"
   ],
   "metadata": {
    "colab": {
     "base_uri": "https://localhost:8080/",
     "height": 1000
    },
    "id": "WqLhP_BMrLaK",
    "outputId": "a9dc4e50-a16f-42aa-8b15-8a523bfae7a1"
   },
   "execution_count": 9,
   "outputs": [
    {
     "name": "stderr",
     "output_type": "stream",
     "text": [
      "C:\\Users\\Yassmina Abdo\\AppData\\Local\\Temp\\ipykernel_18332\\1104479430.py:5: FutureWarning: Series.dt.weekofyear and Series.dt.week have been deprecated. Please use Series.dt.isocalendar().week instead.\n",
      "  df[part_col] = getattr(df['Dates'].dt, part).astype(int)\n",
      "C:\\Users\\Yassmina Abdo\\AppData\\Local\\Temp\\ipykernel_18332\\1104479430.py:5: FutureWarning: Series.dt.weekofyear and Series.dt.week have been deprecated. Please use Series.dt.isocalendar().week instead.\n",
      "  df[part_col] = getattr(df['Dates'].dt, part).astype(int)\n"
     ]
    },
    {
     "data": {
      "text/plain": "                   Award Date Quarter and Fiscal Year Commodity Category  \\\n0     2013-09-30T00:00:00.000               Q1 - FY14         CONSULTING   \n2     2013-09-27T00:00:00.000               Q1 - FY14         CONSULTING   \n3     2013-09-27T00:00:00.000               Q1 - FY14         CONSULTING   \n5     2013-09-26T00:00:00.000               Q1 - FY14         CONSULTING   \n8     2013-09-25T00:00:00.000               Q1 - FY14         CONSULTING   \n...                       ...                     ...                ...   \n2292  2020-06-29T00:00:00.000               Q4 - FY20         CONSULTING   \n2293  2020-06-29T00:00:00.000               Q4 - FY20         CONSULTING   \n2294  2020-06-30T00:00:00.000               Q4 - FY20         CONSULTING   \n2295  2020-06-30T00:00:00.000               Q4 - FY20         CONSULTING   \n2296  2020-06-30T00:00:00.000               Q4 - FY20         CONSULTING   \n\n                                   Contract Description WBG Organization  \\\n0     Scientific Coordination for Impact Evaluation ...             IBRD   \n2     Consortium-Approach to the Development of Gas ...             IBRD   \n3     Updating the Regional Balkans Infrastructure S...             IBRD   \n5     Retrospective Evaluation of the Global Facilit...             IBRD   \n8     Investment Prioritization for Resilient Liveli...             IBRD   \n...                                                 ...              ...   \n2292  Thailand & Vietnam Feasibility Analysis of Ado...             IBRD   \n2293  Mozambique Merchant Acquisition and Management...              IFC   \n2294  Indonesia Advisory Services to the Coastal Fis...             IBRD   \n2295         Global Data and Cloud Infrastructure Study             IBRD   \n2296  Afghanistan, Pakistan, Tajikistan, Uzbekistan ...             IBRD   \n\n                                   Supplier      Supplier Country  \\\n0            University Hospital Heidelberg               Germany   \n2      Economic Consulting Associates, Ltd.        United Kingdom   \n3                        Systema Consulting                Greece   \n5              Fundacion Dara Internacional                 Spain   \n8                                       DHI               Denmark   \n...                                     ...                   ...   \n2292    Kulthorn Kirby Public Company Limit              Thailand   \n2293  Amarante FZCO DBA Amarante Consulting  United Arab Emirates   \n2294                  PT Hatfield Indonesia             Indonesia   \n2295                               COWI A/S               Denmark   \n2296                      Ernst & Young LLP                 India   \n\n     Supplier Country Code  Contract Award Amount Fund Source  \\\n0                       DE              325000.00  TRUST FUND   \n2                       GB             1290836.64  TRUST FUND   \n3                       GR              556297.09  TRUST FUND   \n5                       ES              293273.00  TRUST FUND   \n8                       DK              489945.00  TRUST FUND   \n...                    ...                    ...         ...   \n2292                    TH             1153550.00         WBG   \n2293                    AE              289980.00  Trust Fund   \n2294                    ID              569998.00  Trust Fund   \n2295                    DK              255700.00  Trust Fund   \n2296                    IN              297500.00  Trust Fund   \n\n                       VPU description      Dates  award_date_year  \\\n0                               Africa 2013-09-30             2013   \n2              Europe and Central Asia 2013-09-27             2013   \n3              Europe and Central Asia 2013-09-27             2013   \n5      Sustainable Development Network 2013-09-26             2013   \n8                               Africa 2013-09-25             2013   \n...                                ...        ...              ...   \n2292  Office of the Regional Vice Pres 2020-06-29             2020   \n2293            Middle East and Africa 2020-06-29             2020   \n2294  Office of the Regional Vice Pres 2020-06-30             2020   \n2295                Infrastructure VPU 2020-06-30             2020   \n2296  Office of the Regional Vice Pres 2020-06-30             2020   \n\n      award_date_week  award_date_month  award_date_weekofyear  \\\n0                  40                 9                     40   \n2                  39                 9                     39   \n3                  39                 9                     39   \n5                  39                 9                     39   \n8                  39                 9                     39   \n...               ...               ...                    ...   \n2292               27                 6                     27   \n2293               27                 6                     27   \n2294               27                 6                     27   \n2295               27                 6                     27   \n2296               27                 6                     27   \n\n      award_date_day  award_date_quarter  \n0                 30                   3  \n2                 27                   3  \n3                 27                   3  \n5                 26                   3  \n8                 25                   3  \n...              ...                 ...  \n2292              29                   2  \n2293              29                   2  \n2294              30                   2  \n2295              30                   2  \n2296              30                   2  \n\n[1911 rows x 18 columns]",
      "text/html": "<div>\n<style scoped>\n    .dataframe tbody tr th:only-of-type {\n        vertical-align: middle;\n    }\n\n    .dataframe tbody tr th {\n        vertical-align: top;\n    }\n\n    .dataframe thead th {\n        text-align: right;\n    }\n</style>\n<table border=\"1\" class=\"dataframe\">\n  <thead>\n    <tr style=\"text-align: right;\">\n      <th></th>\n      <th>Award Date</th>\n      <th>Quarter and Fiscal Year</th>\n      <th>Commodity Category</th>\n      <th>Contract Description</th>\n      <th>WBG Organization</th>\n      <th>Supplier</th>\n      <th>Supplier Country</th>\n      <th>Supplier Country Code</th>\n      <th>Contract Award Amount</th>\n      <th>Fund Source</th>\n      <th>VPU description</th>\n      <th>Dates</th>\n      <th>award_date_year</th>\n      <th>award_date_week</th>\n      <th>award_date_month</th>\n      <th>award_date_weekofyear</th>\n      <th>award_date_day</th>\n      <th>award_date_quarter</th>\n    </tr>\n  </thead>\n  <tbody>\n    <tr>\n      <th>0</th>\n      <td>2013-09-30T00:00:00.000</td>\n      <td>Q1 - FY14</td>\n      <td>CONSULTING</td>\n      <td>Scientific Coordination for Impact Evaluation ...</td>\n      <td>IBRD</td>\n      <td>University Hospital Heidelberg</td>\n      <td>Germany</td>\n      <td>DE</td>\n      <td>325000.00</td>\n      <td>TRUST FUND</td>\n      <td>Africa</td>\n      <td>2013-09-30</td>\n      <td>2013</td>\n      <td>40</td>\n      <td>9</td>\n      <td>40</td>\n      <td>30</td>\n      <td>3</td>\n    </tr>\n    <tr>\n      <th>2</th>\n      <td>2013-09-27T00:00:00.000</td>\n      <td>Q1 - FY14</td>\n      <td>CONSULTING</td>\n      <td>Consortium-Approach to the Development of Gas ...</td>\n      <td>IBRD</td>\n      <td>Economic Consulting Associates, Ltd.</td>\n      <td>United Kingdom</td>\n      <td>GB</td>\n      <td>1290836.64</td>\n      <td>TRUST FUND</td>\n      <td>Europe and Central Asia</td>\n      <td>2013-09-27</td>\n      <td>2013</td>\n      <td>39</td>\n      <td>9</td>\n      <td>39</td>\n      <td>27</td>\n      <td>3</td>\n    </tr>\n    <tr>\n      <th>3</th>\n      <td>2013-09-27T00:00:00.000</td>\n      <td>Q1 - FY14</td>\n      <td>CONSULTING</td>\n      <td>Updating the Regional Balkans Infrastructure S...</td>\n      <td>IBRD</td>\n      <td>Systema Consulting</td>\n      <td>Greece</td>\n      <td>GR</td>\n      <td>556297.09</td>\n      <td>TRUST FUND</td>\n      <td>Europe and Central Asia</td>\n      <td>2013-09-27</td>\n      <td>2013</td>\n      <td>39</td>\n      <td>9</td>\n      <td>39</td>\n      <td>27</td>\n      <td>3</td>\n    </tr>\n    <tr>\n      <th>5</th>\n      <td>2013-09-26T00:00:00.000</td>\n      <td>Q1 - FY14</td>\n      <td>CONSULTING</td>\n      <td>Retrospective Evaluation of the Global Facilit...</td>\n      <td>IBRD</td>\n      <td>Fundacion Dara Internacional</td>\n      <td>Spain</td>\n      <td>ES</td>\n      <td>293273.00</td>\n      <td>TRUST FUND</td>\n      <td>Sustainable Development Network</td>\n      <td>2013-09-26</td>\n      <td>2013</td>\n      <td>39</td>\n      <td>9</td>\n      <td>39</td>\n      <td>26</td>\n      <td>3</td>\n    </tr>\n    <tr>\n      <th>8</th>\n      <td>2013-09-25T00:00:00.000</td>\n      <td>Q1 - FY14</td>\n      <td>CONSULTING</td>\n      <td>Investment Prioritization for Resilient Liveli...</td>\n      <td>IBRD</td>\n      <td>DHI</td>\n      <td>Denmark</td>\n      <td>DK</td>\n      <td>489945.00</td>\n      <td>TRUST FUND</td>\n      <td>Africa</td>\n      <td>2013-09-25</td>\n      <td>2013</td>\n      <td>39</td>\n      <td>9</td>\n      <td>39</td>\n      <td>25</td>\n      <td>3</td>\n    </tr>\n    <tr>\n      <th>...</th>\n      <td>...</td>\n      <td>...</td>\n      <td>...</td>\n      <td>...</td>\n      <td>...</td>\n      <td>...</td>\n      <td>...</td>\n      <td>...</td>\n      <td>...</td>\n      <td>...</td>\n      <td>...</td>\n      <td>...</td>\n      <td>...</td>\n      <td>...</td>\n      <td>...</td>\n      <td>...</td>\n      <td>...</td>\n      <td>...</td>\n    </tr>\n    <tr>\n      <th>2292</th>\n      <td>2020-06-29T00:00:00.000</td>\n      <td>Q4 - FY20</td>\n      <td>CONSULTING</td>\n      <td>Thailand &amp; Vietnam Feasibility Analysis of Ado...</td>\n      <td>IBRD</td>\n      <td>Kulthorn Kirby Public Company Limit</td>\n      <td>Thailand</td>\n      <td>TH</td>\n      <td>1153550.00</td>\n      <td>WBG</td>\n      <td>Office of the Regional Vice Pres</td>\n      <td>2020-06-29</td>\n      <td>2020</td>\n      <td>27</td>\n      <td>6</td>\n      <td>27</td>\n      <td>29</td>\n      <td>2</td>\n    </tr>\n    <tr>\n      <th>2293</th>\n      <td>2020-06-29T00:00:00.000</td>\n      <td>Q4 - FY20</td>\n      <td>CONSULTING</td>\n      <td>Mozambique Merchant Acquisition and Management...</td>\n      <td>IFC</td>\n      <td>Amarante FZCO DBA Amarante Consulting</td>\n      <td>United Arab Emirates</td>\n      <td>AE</td>\n      <td>289980.00</td>\n      <td>Trust Fund</td>\n      <td>Middle East and Africa</td>\n      <td>2020-06-29</td>\n      <td>2020</td>\n      <td>27</td>\n      <td>6</td>\n      <td>27</td>\n      <td>29</td>\n      <td>2</td>\n    </tr>\n    <tr>\n      <th>2294</th>\n      <td>2020-06-30T00:00:00.000</td>\n      <td>Q4 - FY20</td>\n      <td>CONSULTING</td>\n      <td>Indonesia Advisory Services to the Coastal Fis...</td>\n      <td>IBRD</td>\n      <td>PT Hatfield Indonesia</td>\n      <td>Indonesia</td>\n      <td>ID</td>\n      <td>569998.00</td>\n      <td>Trust Fund</td>\n      <td>Office of the Regional Vice Pres</td>\n      <td>2020-06-30</td>\n      <td>2020</td>\n      <td>27</td>\n      <td>6</td>\n      <td>27</td>\n      <td>30</td>\n      <td>2</td>\n    </tr>\n    <tr>\n      <th>2295</th>\n      <td>2020-06-30T00:00:00.000</td>\n      <td>Q4 - FY20</td>\n      <td>CONSULTING</td>\n      <td>Global Data and Cloud Infrastructure Study</td>\n      <td>IBRD</td>\n      <td>COWI A/S</td>\n      <td>Denmark</td>\n      <td>DK</td>\n      <td>255700.00</td>\n      <td>Trust Fund</td>\n      <td>Infrastructure VPU</td>\n      <td>2020-06-30</td>\n      <td>2020</td>\n      <td>27</td>\n      <td>6</td>\n      <td>27</td>\n      <td>30</td>\n      <td>2</td>\n    </tr>\n    <tr>\n      <th>2296</th>\n      <td>2020-06-30T00:00:00.000</td>\n      <td>Q4 - FY20</td>\n      <td>CONSULTING</td>\n      <td>Afghanistan, Pakistan, Tajikistan, Uzbekistan ...</td>\n      <td>IBRD</td>\n      <td>Ernst &amp; Young LLP</td>\n      <td>India</td>\n      <td>IN</td>\n      <td>297500.00</td>\n      <td>Trust Fund</td>\n      <td>Office of the Regional Vice Pres</td>\n      <td>2020-06-30</td>\n      <td>2020</td>\n      <td>27</td>\n      <td>6</td>\n      <td>27</td>\n      <td>30</td>\n      <td>2</td>\n    </tr>\n  </tbody>\n</table>\n<p>1911 rows × 18 columns</p>\n</div>"
     },
     "execution_count": 9,
     "metadata": {},
     "output_type": "execute_result"
    }
   ]
  },
  {
   "cell_type": "code",
   "execution_count": 10,
   "metadata": {
    "pycharm": {
     "name": "#%%\n"
    },
    "id": "PNULe_ngQ9Eq",
    "outputId": "262eccee-8933-436d-f78c-85578810457a",
    "colab": {
     "base_uri": "https://localhost:8080/"
    }
   },
   "outputs": [
    {
     "name": "stderr",
     "output_type": "stream",
     "text": [
      "C:\\Users\\Yassmina Abdo\\AppData\\Local\\Temp\\ipykernel_18332\\1923429988.py:25: FutureWarning: The frame.append method is deprecated and will be removed from pandas in a future version. Use pandas.concat instead.\n",
      "  most_freqcountr_df = most_freqcountr_df.append(df_temp)\n",
      "C:\\Users\\Yassmina Abdo\\AppData\\Local\\Temp\\ipykernel_18332\\1923429988.py:25: FutureWarning: The frame.append method is deprecated and will be removed from pandas in a future version. Use pandas.concat instead.\n",
      "  most_freqcountr_df = most_freqcountr_df.append(df_temp)\n",
      "C:\\Users\\Yassmina Abdo\\AppData\\Local\\Temp\\ipykernel_18332\\1923429988.py:25: FutureWarning: The frame.append method is deprecated and will be removed from pandas in a future version. Use pandas.concat instead.\n",
      "  most_freqcountr_df = most_freqcountr_df.append(df_temp)\n",
      "C:\\Users\\Yassmina Abdo\\AppData\\Local\\Temp\\ipykernel_18332\\1923429988.py:25: FutureWarning: The frame.append method is deprecated and will be removed from pandas in a future version. Use pandas.concat instead.\n",
      "  most_freqcountr_df = most_freqcountr_df.append(df_temp)\n",
      "C:\\Users\\Yassmina Abdo\\AppData\\Local\\Temp\\ipykernel_18332\\1923429988.py:25: FutureWarning: The frame.append method is deprecated and will be removed from pandas in a future version. Use pandas.concat instead.\n",
      "  most_freqcountr_df = most_freqcountr_df.append(df_temp)\n",
      "C:\\Users\\Yassmina Abdo\\AppData\\Local\\Temp\\ipykernel_18332\\1923429988.py:30: FutureWarning: The frame.append method is deprecated and will be removed from pandas in a future version. Use pandas.concat instead.\n",
      "  most_freqcat_df = most_freqcat_df.append(df_temp)\n",
      "C:\\Users\\Yassmina Abdo\\AppData\\Local\\Temp\\ipykernel_18332\\1923429988.py:30: FutureWarning: The frame.append method is deprecated and will be removed from pandas in a future version. Use pandas.concat instead.\n",
      "  most_freqcat_df = most_freqcat_df.append(df_temp)\n",
      "C:\\Users\\Yassmina Abdo\\AppData\\Local\\Temp\\ipykernel_18332\\1923429988.py:30: FutureWarning: The frame.append method is deprecated and will be removed from pandas in a future version. Use pandas.concat instead.\n",
      "  most_freqcat_df = most_freqcat_df.append(df_temp)\n",
      "C:\\Users\\Yassmina Abdo\\AppData\\Local\\Temp\\ipykernel_18332\\1923429988.py:30: FutureWarning: The frame.append method is deprecated and will be removed from pandas in a future version. Use pandas.concat instead.\n",
      "  most_freqcat_df = most_freqcat_df.append(df_temp)\n",
      "C:\\Users\\Yassmina Abdo\\AppData\\Local\\Temp\\ipykernel_18332\\1923429988.py:30: FutureWarning: The frame.append method is deprecated and will be removed from pandas in a future version. Use pandas.concat instead.\n",
      "  most_freqcat_df = most_freqcat_df.append(df_temp)\n",
      "C:\\Users\\Yassmina Abdo\\AppData\\Local\\Temp\\ipykernel_18332\\1923429988.py:45: SettingWithCopyWarning: \n",
      "A value is trying to be set on a copy of a slice from a DataFrame\n",
      "\n",
      "See the caveats in the documentation: https://pandas.pydata.org/pandas-docs/stable/user_guide/indexing.html#returning-a-view-versus-a-copy\n",
      "  most_freq_df['Contract Description'].iloc[i] = splitted\n",
      "C:\\Users\\Yassmina Abdo\\AppData\\Local\\Temp\\ipykernel_18332\\1923429988.py:48: SettingWithCopyWarning: \n",
      "A value is trying to be set on a copy of a slice from a DataFrame\n",
      "\n",
      "See the caveats in the documentation: https://pandas.pydata.org/pandas-docs/stable/user_guide/indexing.html#returning-a-view-versus-a-copy\n",
      "  most_freq_df['Contract Description'].iloc[198] = 'Launch Dev'\n",
      "C:\\Users\\Yassmina Abdo\\AppData\\Local\\Temp\\ipykernel_18332\\1923429988.py:49: SettingWithCopyWarning: \n",
      "A value is trying to be set on a copy of a slice from a DataFrame\n",
      "\n",
      "See the caveats in the documentation: https://pandas.pydata.org/pandas-docs/stable/user_guide/indexing.html#returning-a-view-versus-a-copy\n",
      "  most_freq_df['Contract Description'].iloc[199] = 'Launch Dev'\n",
      "C:\\Users\\Yassmina Abdo\\AppData\\Local\\Temp\\ipykernel_18332\\1923429988.py:50: SettingWithCopyWarning: \n",
      "A value is trying to be set on a copy of a slice from a DataFrame\n",
      "\n",
      "See the caveats in the documentation: https://pandas.pydata.org/pandas-docs/stable/user_guide/indexing.html#returning-a-view-versus-a-copy\n",
      "  most_freq_df['Contract Description'].iloc[226] = 'Pakistan'\n"
     ]
    }
   ],
   "source": [
    "\n",
    "# get the most frequent countries\n",
    "countries = {}\n",
    "for i in (df['Supplier Country'].unique()):\n",
    "    countries[i]= (df['Supplier Country']==i).sum()\n",
    "\n",
    "countries = dict(sorted(countries.items(), key=lambda x: x[1], reverse=True))\n",
    "countries = pd.Series(countries)\n",
    "countries = countries[:5]\n",
    "\n",
    "# get the most frequent category\n",
    "categories = {}\n",
    "for i in (df['Commodity Category'].unique()):\n",
    "    categories[i]= (df['Commodity Category']==i).sum()\n",
    "\n",
    "categories = dict(sorted(categories.items(), key=lambda x: x[1], reverse=True))\n",
    "categories = pd.Series(categories)\n",
    "categories = categories[:5]\n",
    "\n",
    "# Data Frame have the most Freq Countries and Categories\n",
    "most_freqcountr_df = pd.DataFrame(columns=df.columns)\n",
    "for i in countries.index:\n",
    "    df_temp = df[df['Supplier Country'] == i]\n",
    "    most_freqcountr_df = most_freqcountr_df.append(df_temp)\n",
    "\n",
    "most_freqcat_df = pd.DataFrame(columns=df.columns)\n",
    "for i in categories.index:\n",
    "    df_temp = most_freqcountr_df[most_freqcountr_df['Commodity Category'] == i]\n",
    "    most_freqcat_df = most_freqcat_df.append(df_temp)\n",
    "\n",
    "# Convert col To Float\n",
    "most_freqcat_df['Contract Award Amount']= most_freqcat_df['Contract Award Amount'].astype(float)\n",
    "most_freq_df = most_freqcat_df.copy()\n",
    "\n",
    "##################\n",
    "#sort by year\n",
    "most_freq_df = most_freq_df.sort_values(by=['award_date_year'], ascending=True)\n",
    "df = df.sort_values(by=['award_date_year'], ascending=True)\n",
    "###################\n",
    "\n",
    "# Get less Description\n",
    "for i in range(len(most_freq_df)):\n",
    "    splitted = most_freq_df['Contract Description'].iloc[i].split()[0]\n",
    "    most_freq_df['Contract Description'].iloc[i] = splitted\n",
    "# Handle some issues in col Contract Description\n",
    "most_freq_df = most_freq_df.reset_index().drop('index',axis=1)\n",
    "most_freq_df['Contract Description'].iloc[198] = 'Launch Dev'\n",
    "most_freq_df['Contract Description'].iloc[199] = 'Launch Dev'\n",
    "most_freq_df['Contract Description'].iloc[226] = 'Pakistan'\n",
    "#most_freq_df['Contract Description'].iloc[1061] = 'Somalia'"
   ]
  },
  {
   "cell_type": "code",
   "execution_count": 11,
   "metadata": {
    "pycharm": {
     "name": "#%%\n"
    },
    "id": "mRRds5RCQ9Er",
    "outputId": "164e33ad-83e0-44c8-e7eb-1475254545ef",
    "colab": {
     "base_uri": "https://localhost:8080/",
     "height": 565
    }
   },
   "outputs": [
    {
     "data": {
      "text/plain": "                Award Date Quarter and Fiscal Year Commodity Category  \\\n0  2013-09-25T00:00:00.000               Q1 - FY14         CONSULTING   \n1  2013-12-23T00:00:00.000               Q2 - FY14         CONSULTING   \n2  2013-12-13T00:00:00.000               Q2 - FY14         CONSULTING   \n3  2013-09-05T00:00:00.000               Q1 - FY14         CONSULTING   \n4  2013-09-12T00:00:00.000               Q1 - FY14         CONSULTING   \n\n  Contract Description WBG Organization                          Supplier  \\\n0                Human             IBRD             Design Continuum Inc.   \n1              Spatial             IBRD              RMSI Private Limited   \n2           Consultant              IFC  Dalberg Development Advisors Pvt   \n3            Strategic              IFC              Deloitte Conseil SAS   \n4           Mozambique              IFC        Artelia Ville et Transport   \n\n  Supplier Country Supplier Country Code  Contract Award Amount Fund Source  \\\n0              USA                    US               375600.0  TRUST FUND   \n1            India                    IN               699300.0         WBG   \n2            India                    IN               262875.0  TRUST FUND   \n3           France                    FR               300000.0  TRUST FUND   \n4           France                    FR               513407.0  TRUST FUND   \n\n                                     VPU description                Dates  \\\n0         IFC Financial & Private Sector Development  2013-09-25 00:00:00   \n1                    Sustainable Development Network  2013-12-23 00:00:00   \n2                                IFC VP Asia Pacific  2013-12-13 00:00:00   \n3  Office of the VP, East. & South. Europe, Centr...  2013-09-05 00:00:00   \n4      Office  of the VP, Business Advisory Services  2013-09-12 00:00:00   \n\n  award_date_year award_date_week award_date_month award_date_weekofyear  \\\n0            2013              39                9                    39   \n1            2013              52               12                    52   \n2            2013              50               12                    50   \n3            2013              36                9                    36   \n4            2013              37                9                    37   \n\n  award_date_day award_date_quarter  \n0             25                  3  \n1             23                  4  \n2             13                  4  \n3              5                  3  \n4             12                  3  ",
      "text/html": "<div>\n<style scoped>\n    .dataframe tbody tr th:only-of-type {\n        vertical-align: middle;\n    }\n\n    .dataframe tbody tr th {\n        vertical-align: top;\n    }\n\n    .dataframe thead th {\n        text-align: right;\n    }\n</style>\n<table border=\"1\" class=\"dataframe\">\n  <thead>\n    <tr style=\"text-align: right;\">\n      <th></th>\n      <th>Award Date</th>\n      <th>Quarter and Fiscal Year</th>\n      <th>Commodity Category</th>\n      <th>Contract Description</th>\n      <th>WBG Organization</th>\n      <th>Supplier</th>\n      <th>Supplier Country</th>\n      <th>Supplier Country Code</th>\n      <th>Contract Award Amount</th>\n      <th>Fund Source</th>\n      <th>VPU description</th>\n      <th>Dates</th>\n      <th>award_date_year</th>\n      <th>award_date_week</th>\n      <th>award_date_month</th>\n      <th>award_date_weekofyear</th>\n      <th>award_date_day</th>\n      <th>award_date_quarter</th>\n    </tr>\n  </thead>\n  <tbody>\n    <tr>\n      <th>0</th>\n      <td>2013-09-25T00:00:00.000</td>\n      <td>Q1 - FY14</td>\n      <td>CONSULTING</td>\n      <td>Human</td>\n      <td>IBRD</td>\n      <td>Design Continuum Inc.</td>\n      <td>USA</td>\n      <td>US</td>\n      <td>375600.0</td>\n      <td>TRUST FUND</td>\n      <td>IFC Financial &amp; Private Sector Development</td>\n      <td>2013-09-25 00:00:00</td>\n      <td>2013</td>\n      <td>39</td>\n      <td>9</td>\n      <td>39</td>\n      <td>25</td>\n      <td>3</td>\n    </tr>\n    <tr>\n      <th>1</th>\n      <td>2013-12-23T00:00:00.000</td>\n      <td>Q2 - FY14</td>\n      <td>CONSULTING</td>\n      <td>Spatial</td>\n      <td>IBRD</td>\n      <td>RMSI Private Limited</td>\n      <td>India</td>\n      <td>IN</td>\n      <td>699300.0</td>\n      <td>WBG</td>\n      <td>Sustainable Development Network</td>\n      <td>2013-12-23 00:00:00</td>\n      <td>2013</td>\n      <td>52</td>\n      <td>12</td>\n      <td>52</td>\n      <td>23</td>\n      <td>4</td>\n    </tr>\n    <tr>\n      <th>2</th>\n      <td>2013-12-13T00:00:00.000</td>\n      <td>Q2 - FY14</td>\n      <td>CONSULTING</td>\n      <td>Consultant</td>\n      <td>IFC</td>\n      <td>Dalberg Development Advisors Pvt</td>\n      <td>India</td>\n      <td>IN</td>\n      <td>262875.0</td>\n      <td>TRUST FUND</td>\n      <td>IFC VP Asia Pacific</td>\n      <td>2013-12-13 00:00:00</td>\n      <td>2013</td>\n      <td>50</td>\n      <td>12</td>\n      <td>50</td>\n      <td>13</td>\n      <td>4</td>\n    </tr>\n    <tr>\n      <th>3</th>\n      <td>2013-09-05T00:00:00.000</td>\n      <td>Q1 - FY14</td>\n      <td>CONSULTING</td>\n      <td>Strategic</td>\n      <td>IFC</td>\n      <td>Deloitte Conseil SAS</td>\n      <td>France</td>\n      <td>FR</td>\n      <td>300000.0</td>\n      <td>TRUST FUND</td>\n      <td>Office of the VP, East. &amp; South. Europe, Centr...</td>\n      <td>2013-09-05 00:00:00</td>\n      <td>2013</td>\n      <td>36</td>\n      <td>9</td>\n      <td>36</td>\n      <td>5</td>\n      <td>3</td>\n    </tr>\n    <tr>\n      <th>4</th>\n      <td>2013-09-12T00:00:00.000</td>\n      <td>Q1 - FY14</td>\n      <td>CONSULTING</td>\n      <td>Mozambique</td>\n      <td>IFC</td>\n      <td>Artelia Ville et Transport</td>\n      <td>France</td>\n      <td>FR</td>\n      <td>513407.0</td>\n      <td>TRUST FUND</td>\n      <td>Office  of the VP, Business Advisory Services</td>\n      <td>2013-09-12 00:00:00</td>\n      <td>2013</td>\n      <td>37</td>\n      <td>9</td>\n      <td>37</td>\n      <td>12</td>\n      <td>3</td>\n    </tr>\n  </tbody>\n</table>\n</div>"
     },
     "execution_count": 11,
     "metadata": {},
     "output_type": "execute_result"
    }
   ],
   "source": [
    "most_freq_df.head()"
   ]
  },
  {
   "cell_type": "markdown",
   "metadata": {
    "collapsed": false,
    "pycharm": {
     "name": "#%% md\n"
    },
    "id": "gaSYOCTmQ9Es"
   },
   "source": [
    "# Insights"
   ]
  },
  {
   "cell_type": "code",
   "execution_count": 12,
   "metadata": {
    "pycharm": {
     "name": "#%%\n"
    },
    "id": "AobH6yn2Q9Es"
   },
   "outputs": [],
   "source": [
    "# All Unique Categories\n",
    "major_categories = list(most_freq_df['Commodity Category'].unique())\n",
    "\n",
    "# Group Category and its minor then do some calculations\n",
    "large_tb = most_freq_df.groupby(['Commodity Category', 'Contract Description'])['Contract Award Amount'].agg(\n",
    "    ['sum', 'count', 'mean']).reset_index().rename(\n",
    "    columns={'count': 'Contract Volume', 'sum': 'Total Contracts ($)', 'mean': 'Average Contract Value ($)'})\n",
    "\n",
    "money_format = FormatTemplate.money(2)\n",
    "money_cols = ['Total Contracts ($)', 'Average Contract Value ($)']\n",
    "\n",
    "# Contracts per Country\n",
    "contracts_country = most_freq_df.groupby('Supplier Country')['Contract Award Amount'].agg('sum').reset_index(name='Total Contracts ($)')\n"
   ]
  },
  {
   "cell_type": "markdown",
   "metadata": {
    "collapsed": false,
    "id": "ImzgFNexQ9Et"
   },
   "source": [
    "# Dashboard"
   ]
  },
  {
   "cell_type": "markdown",
   "metadata": {
    "collapsed": false,
    "pycharm": {
     "name": "#%% md\n"
    },
    "id": "TfL-H0WEQ9Et"
   },
   "source": [
    "# Graphs"
   ]
  },
  {
   "cell_type": "code",
   "execution_count": null,
   "metadata": {
    "pycharm": {
     "name": "#%%\n",
     "is_executing": true
    },
    "id": "u6Xc5mvoQ9Et",
    "outputId": "221498ac-c7f2-4d28-8934-6f27217e2d5f",
    "colab": {
     "base_uri": "https://localhost:8080/",
     "height": 467
    }
   },
   "outputs": [],
   "source": [
    "# Bar Graph For Total contracts per Country\n",
    "bar_fig_country = px.bar(contracts_country, x='Total Contracts ($)', y='Supplier Country',\n",
    "                         title='Total Contracts by Country (Hover to filter)',\n",
    "                         custom_data=['Supplier Country'], color='Supplier Country',\n",
    "                         color_discrete_map={'United Kingdom': '#FFA630', 'India': '#D7E8BA', 'France': '#4DA1A9',\n",
    "                                             'USA': '#611C35', 'Netherlands': '#CE7DA5','Germany':'#E05263','Spain':'#FDF6E3', 'Kenya': 'magenta', 'Belgium':'royalblue', 'Canada':'lightcyan'})\n",
    "bar_fig_country.update_layout({'font':{ 'color': '#FFFFFF'},'plot_bgcolor': 'rgb(0, 43, 54)','paper_bgcolor': 'rgb(0, 43, 54)'})\n"
   ]
  },
  {
   "cell_type": "code",
   "execution_count": 14,
   "metadata": {
    "pycharm": {
     "name": "#%%\n"
    },
    "id": "kaxbVs6qQ9Eu"
   },
   "outputs": [],
   "source": [
    "def create_donut(title,colname):\n",
    "     fig = go.Figure(data=[go.Pie(labels=[title],hole=0.8,textinfo=\"none\",hoverinfo='none',marker={'colors':['#B58900']})])\n",
    "\n",
    "     fig.add_annotation(text=str(len(df[colname].unique()))+\"<br>\"+\"<br>\"+title,x=0.5,y=0.5,showarrow=False,font= {'family': \"Times\", 'size':  31, 'color': '#FFFFFF'})\n",
    "\n",
    "     fig.update_layout({'plot_bgcolor': 'rgba(0, 0, 0, 0)','paper_bgcolor': 'rgba(0, 0, 0, 0)',\"showlegend\": False ,'margin':dict(r=0, l=0, t=0, b=0),'width':200,'height':300})\n",
    "\n",
    "     return ( dcc.Graph(figure=fig ))"
   ]
  },
  {
   "cell_type": "markdown",
   "metadata": {
    "collapsed": false,
    "id": "34T1Dm1HQ9Eu"
   },
   "source": [
    "# Components"
   ]
  },
  {
   "cell_type": "code",
   "execution_count": 15,
   "metadata": {
    "pycharm": {
     "name": "#%%\n"
    },
    "id": "xyEOF_kyQ9Eu"
   },
   "outputs": [],
   "source": [
    "def create_supplier_dopdown():\n",
    "      return (dcc.Dropdown(id='user_choice', options=[{'label': sup, \"value\": sup} for sup in df.Supplier.unique()],\n",
    "                             value=2007, clearable=False)\n",
    "              )\n"
   ]
  },
  {
   "cell_type": "code",
   "execution_count": 16,
   "metadata": {
    "pycharm": {
     "name": "#%%\n"
    },
    "id": "1Gv5235NQ9Ev"
   },
   "outputs": [],
   "source": [
    "def create_card(graph):\n",
    "    card = dbc.Card(\n",
    "        dbc.CardBody(\n",
    "            [\n",
    "                html.Div(graph),\n",
    "            ]\n",
    "        ),\n",
    "        color=\"dark\",\n",
    "        inverse=True,\n",
    "        outline=False,\n",
    "    )\n",
    "    return(card)\n"
   ]
  },
  {
   "cell_type": "markdown",
   "metadata": {
    "collapsed": false,
    "pycharm": {
     "name": "#%% md\n"
    },
    "id": "Vl6fQkjZQ9Ev"
   },
   "source": [
    "# Cards Rows"
   ]
  },
  {
   "cell_type": "code",
   "execution_count": 17,
   "metadata": {
    "pycharm": {
     "name": "#%%\n"
    },
    "id": "i51kqV7AQ9Ev"
   },
   "outputs": [],
   "source": [
    "\n",
    "card1 = create_card(create_donut('Categories','Commodity Category'))\n",
    "card2 = create_card(create_donut('Suppliers','Supplier'))\n",
    "card3 = create_card(create_donut('Countries','Supplier Country'))\n",
    "card4 = create_card((dcc.Graph(id='major_cat', figure=bar_fig_country)))\n",
    "card5 = create_card((dcc.Graph(id='minor_cat')))\n",
    "card6 = create_card((dcc.Graph(id='histogram_graph')))\n",
    "card7 = create_card((dcc.Graph(id='line_graph')))\n",
    "card8 = create_card((dcc.Graph(id='count_graph')))\n",
    "\n",
    "\n",
    "Row0 = dbc.Row(\n",
    "    [  dbc.Col([html.H4()]),\n",
    "       html.H1(\"\\t\"+'Procurement Department', className=\"title\",style={ 'textAlign': 'center', 'color': '#B58900','size':24,'family': \"Times\"}),\n",
    "       html.Br(),\n",
    "       html.Br(),\n",
    "       html.Br()\n",
    "    ])\n",
    "Row1 = dbc.Row(\n",
    "    [dbc.Col([html.H6()]),\n",
    "     dbc.Col(id='card1', children=[card1]),\n",
    "     dbc.Col(id='card2', children=[card2]),\n",
    "     dbc.Col(id='card3', children=[card3]),\n",
    "     dbc.Col([html.H6()])\n",
    "    ])\n",
    "Row2 = dbc.Row(\n",
    "    [\n",
    "       html.Br()\n",
    "    ])\n",
    "Row3= dbc.Row(\n",
    "    [\n",
    "     dbc.Col(id='card4', children=[card4]),\n",
    "     dbc.Col(id='card5', children=[card5]),\n",
    "    ],justify='around'\n",
    ")\n",
    "\n",
    "Row4 =dbc.Row([\n",
    "    html.Br(),\n",
    "    html.Br(),\n",
    "    html.H4('Contract Amount Per Year',style={ 'textAlign': 'left', 'color': '#B58900','size':50}),\n",
    "    dcc.Dropdown(\n",
    "        id=\"histogram_dropdown\",\n",
    "        options= most_freq_df.award_date_year.unique(),\n",
    "        value=2020,\n",
    "        clearable=False,style={'width':600}\n",
    "    ),\n",
    "   html.Br(),\n",
    "   html.Br(),\n",
    "   Row2,\n",
    "   dbc.Col(id='card6', children=[card6])\n",
    "],justify='around')\n",
    "\n",
    "Row5 =dbc.Row([\n",
    "    html.Br(),\n",
    "    html.Br(),\n",
    "    html.H4('Contract Amount For Each Country',style={ 'textAlign': 'left', 'color': '#B58900','size':50}),\n",
    "    dcc.Dropdown(\n",
    "        id=\"country\",\n",
    "        options=df['Supplier Country'].unique(),\n",
    "        value=\"USA\",\n",
    "        clearable=False,style={'width':600}\n",
    "    ),\n",
    "    html.Br(),\n",
    "    html.Br(),\n",
    "    Row2,\n",
    "    dbc.Col(id='card7', children=[card7]),\n",
    "    dbc.Col(id='card8', children=[card8]),\n",
    "    \n",
    "  \n",
    "\n",
    "],justify='around')\n",
    "\n",
    "\n"
   ]
  },
  {
   "cell_type": "code",
   "execution_count": 18,
   "metadata": {
    "pycharm": {
     "name": "#%%\n"
    },
    "id": "cXdL8sMZQ9Ev"
   },
   "outputs": [],
   "source": [
    "app = jupyter_dash.JupyterDash(__name__,external_stylesheets=[dbc.themes.SOLAR])\n",
    "app.title = 'Procurement Dashboard'"
   ]
  },
  {
   "cell_type": "markdown",
   "metadata": {
    "collapsed": false,
    "pycharm": {
     "name": "#%% md\n"
    },
    "id": "8uFDN34vQ9Ev"
   },
   "source": [
    "# App Layout"
   ]
  },
  {
   "cell_type": "code",
   "execution_count": 19,
   "metadata": {
    "pycharm": {
     "name": "#%%\n"
    },
    "id": "3kGhK_2yQ9Ew"
   },
   "outputs": [],
   "source": [
    "app.layout = html.Div([\n",
    "    Row0,\n",
    "    Row1,\n",
    "    Row2,\n",
    "    Row3,\n",
    "    Row5,\n",
    "    Row2,\n",
    "    Row4\n",
    "\n",
    "])"
   ]
  },
  {
   "cell_type": "markdown",
   "metadata": {
    "collapsed": false,
    "pycharm": {
     "name": "#%% md\n"
    },
    "id": "a7MBV45oQ9Ew"
   },
   "source": [
    "# Callbacks Functions"
   ]
  },
  {
   "cell_type": "code",
   "execution_count": 20,
   "metadata": {
    "pycharm": {
     "name": "#%%\n"
    },
    "id": "5lf3jhU-Q9Ew"
   },
   "outputs": [],
   "source": [
    "# bar graph update for major and minor Category\n",
    "@app.callback(\n",
    "    Output('minor_cat', 'figure'),\n",
    "    Input('major_cat', 'hoverData'))\n",
    "def update_min_cat_hover(hoverData):\n",
    "    hover_country = 'USA'\n",
    "\n",
    "    if hoverData:\n",
    "        hover_country = hoverData['points'][0]['customdata'][0]\n",
    "\n",
    "    minor_cat_df = most_freq_df[most_freq_df['Supplier Country'] == hover_country]\n",
    "    minor_cat_agg = minor_cat_df.groupby('Contract Description')['Contract Award Amount'].agg('sum').reset_index(name='Total Contracts ($)')\n",
    "    contr_bar_minor_cat = px.bar(minor_cat_agg, x=minor_cat_agg['Total Contracts ($)'].iloc[:20], y=minor_cat_agg['Contract Description'].iloc[:20], orientation='h',\n",
    "                                title=f'Contracts by Minor Category for: {hover_country}')\n",
    "    contr_bar_minor_cat.update_layout({'font':{ 'color': '#FFFFFF'},'plot_bgcolor': 'rgb(0, 43, 54)','paper_bgcolor': 'rgb(0, 43, 54)','yaxis': {'dtick': 1, 'categoryorder': 'total ascending'}, 'title': {'x': 0.5},'xaxis_title':'Total Contracts ($)','yaxis_title':'Minor Category'})\n",
    "    contr_bar_minor_cat.update_traces({'marker_color':'rgb(145, 47, 86)'})\n",
    "\n",
    "    return contr_bar_minor_cat"
   ]
  },
  {
   "cell_type": "code",
   "execution_count": 21,
   "outputs": [],
   "source": [
    "# Year as an input then return sum amounts for each category\n",
    "@app.callback(\n",
    "    Output(\"histogram_graph\", 'figure'),\n",
    "    Input(\"histogram_dropdown\", \"value\"))\n",
    "\n",
    "def update_bar_chart(year):\n",
    "    mask = most_freq_df[\"award_date_year\"] == year\n",
    "    fig = px.histogram(most_freq_df[mask], x=\"Commodity Category\", y=\"Contract Award Amount\",\n",
    "                 color=\"Supplier Country\",\n",
    "                 barmode=\"group\",\n",
    "                 color_discrete_map={'United Kingdom': '#FFA630', 'India': '#D7E8BA', 'France': '#4DA1A9',\n",
    "                                             'USA': '#611C35', 'Netherlands': '#CE7DA5','Germany':'#E05263'})\n",
    "\n",
    "    fig.update_layout({'font':{ 'color': '#FFFFFF'},'plot_bgcolor': 'rgb(0, 43, 54)','paper_bgcolor': 'rgb(0, 43, 54)'})\n",
    "    return fig"
   ],
   "metadata": {
    "pycharm": {
     "name": "#%%\n"
    },
    "id": "LoBWBHUL2bU8"
   }
  },
  {
   "cell_type": "code",
   "execution_count": 22,
   "outputs": [],
   "source": [
    "##Country as an input then return sum amounts for each year\n",
    "@app.callback(\n",
    "    Output(\"line_graph\", \"figure\"),\n",
    "    Input(\"country\", \"value\"))\n",
    "\n",
    "def update_bar_chart(country):\n",
    "    mask='USA'\n",
    "    if country:\n",
    "     mask = df[\"Supplier Country\"] == country\n",
    "\n",
    "    dff=df[mask]\n",
    "    fig = px.line(dff, x=dff['award_date_year'].unique(), y= dff.groupby(['award_date_year']).sum()['Contract Award Amount'],\n",
    "              text= ((dff.groupby(['award_date_year']).sum()['Contract Award Amount']).astype(float)/1000000).round(3),title='Total Amount Per Year' )\n",
    "\n",
    "    fig.update_xaxes(showgrid=False)\n",
    "    fig.update_yaxes(showgrid=False)\n",
    "    fig.update_layout({'font':{ 'color': '#FFFFFF'},'plot_bgcolor': 'rgb(0, 43, 54)','paper_bgcolor': 'rgb(0, 43, 54)','xaxis_title':'Contract Year','yaxis_title':'Total Contracts ($)'})\n",
    "    return fig\n"
   ],
   "metadata": {
    "pycharm": {
     "name": "#%%\n"
    },
    "id": "z2HSwmbP2bU9"
   }
  },
  {
   "cell_type": "code",
   "source": [
    "# take country as input --> return percentage of each category\n",
    "@app.callback(\n",
    "    Output(\"count_graph\", \"figure\"), \n",
    "    Input(\"country\", \"value\"))\n",
    "\n",
    "def update_bar_chart(country):\n",
    "    mask = df[\"Supplier Country\"] == country\n",
    "    dff=df[mask]\n",
    "    fig = go.Figure(go.Bar(\n",
    "    y=(dff.groupby('Commodity Category').nunique()['Supplier']).sort_values(ascending=False)[0:6].index ,\n",
    "    x=(dff.groupby('Commodity Category').nunique()['Supplier']).sort_values(ascending=False)[0:6],\n",
    "    text= ((((dff.groupby('Commodity Category').nunique()['Supplier']).sort_values(ascending=False)[0:6]) /len(dff['Supplier'].unique()))*100).apply(lambda x: '{0:1.2f}%'.format(x)),\n",
    "    orientation='h',\n",
    "    marker=dict(color='rgba(246, 78, 139, 0.6)',\n",
    "                line=dict(color='rgba(246, 78, 139, 1.0)', width=3))\n",
    "    ))\n",
    "    \n",
    "    fig.update_xaxes(showgrid=False)\n",
    "    fig.update_traces(textfont_size=12, textangle=0, textposition=\"outside\", cliponaxis=False)\n",
    "    fig.update_layout({'font':{ 'color': '#FFFFFF'},'plot_bgcolor': 'rgb(0, 43, 54)','paper_bgcolor': 'rgb(0, 43, 54)'},barmode='stack')\n",
    "    fig.update_layout(title='categories percentage', xaxis_tickfont_size=14,  yaxis=dict( title='Categories',titlefont_size=16,tickfont_size=14, ),\n",
    "        xaxis=dict(\n",
    "            title='count',\n",
    "            titlefont_size=16,\n",
    "            tickfont_size=14,\n",
    "        )\n",
    "    )\n",
    "    return fig"
   ],
   "metadata": {
    "id": "Hi3iu1eF3kCA"
   },
   "execution_count": 23,
   "outputs": []
  },
  {
   "cell_type": "markdown",
   "metadata": {
    "collapsed": false,
    "pycharm": {
     "name": "#%% md\n"
    },
    "id": "j1oFReoUQ9Ew"
   },
   "source": [
    "# Run Server"
   ]
  },
  {
   "cell_type": "code",
   "execution_count": 24,
   "metadata": {
    "pycharm": {
     "name": "#%%\n"
    },
    "id": "IdjjrNruQ9Ew",
    "colab": {
     "base_uri": "https://localhost:8080/",
     "height": 52
    },
    "outputId": "708abe69-d6b2-436e-94a0-8aab172a833e"
   },
   "outputs": [
    {
     "name": "stdout",
     "output_type": "stream",
     "text": [
      "Dash app running on http://127.0.0.1:8050/\n"
     ]
    }
   ],
   "source": [
    "if __name__ == \"__main__\":\n",
    "    app.run_server(debug=True, use_reloader=False)"
   ]
  }
 ],
 "metadata": {
  "kernelspec": {
   "display_name": "Python 3 (ipykernel)",
   "language": "python",
   "name": "python3"
  },
  "language_info": {
   "codemirror_mode": {
    "name": "ipython",
    "version": 3
   },
   "file_extension": ".py",
   "mimetype": "text/x-python",
   "name": "python",
   "nbconvert_exporter": "python",
   "pygments_lexer": "ipython3",
   "version": "3.9.7"
  },
  "colab": {
   "name": "DataVisualization_Dashboard4.ipynb",
   "provenance": [],
   "collapsed_sections": []
  }
 },
 "nbformat": 4,
 "nbformat_minor": 0
}